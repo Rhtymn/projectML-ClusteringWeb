{
 "cells": [
  {
   "cell_type": "markdown",
   "metadata": {
    "id": "MawB4a8hHHAP"
   },
   "source": [
    "# Tugas Project ML 👨‍💻👩‍💻"
   ]
  },
  {
   "cell_type": "markdown",
   "metadata": {
    "id": "r_60uiCJGORc"
   },
   "source": [
    "## 🙆‍♂️🙆‍♀️ Anggota Kelompok:\n",
    "1. Agnes Triana Cyntianesa\t24060120120021\n",
    "2. Arifa Alif Malicha Khairunnisa\t24060120120033\n",
    "3. Dimas Wahyu Ardiyanto\t24060120140159\n",
    "4. Muhammad Hafizh Roihan\t24060120130123\n",
    "5. Vito Ahmad Husein\t24060120140111\n",
    "6. Zara Zetira Puti\t24060120120030"
   ]
  },
  {
   "cell_type": "markdown",
   "metadata": {
    "id": "_UVzyQ-BF4Js"
   },
   "source": [
    "## 🕵️‍♂️ Link Deskripsi Dataset\n",
    "https://archive.ics.uci.edu/ml/datasets/Lymphography\n",
    "## 👩‍🏫 Link Data Dataset\n",
    "https://archive.ics.uci.edu/ml/machine-learning-databases/lymphography/lymphography.data"
   ]
  },
  {
   "cell_type": "markdown",
   "metadata": {
    "id": "F6z4-usVHm9O"
   },
   "source": [
    "## 📚 Import Library \n"
   ]
  },
  {
   "cell_type": "code",
   "execution_count": 1,
   "metadata": {
    "id": "eS__h4x4fnlU"
   },
   "outputs": [],
   "source": [
    "# Pandas is a Python library for data analysis\n",
    "import pandas\n",
    "# Pickle can transform a complex object into a byte stream and it can transform the byte stream into an object with the same internal structure\n",
    "import pickle\n",
    "# model_selection from sklearn is for split arrays or matrices into random train and test subsets\n",
    "from sklearn import model_selection"
   ]
  },
  {
   "cell_type": "markdown",
   "metadata": {
    "id": "rh0VhSidCOUH"
   },
   "source": [
    "## 📋 Menyiapkan Dataset\n",
    "- Lymphography is an x-ray study of lymph nodes and lymphatic vessels made visible by the injection of a special dye.\n",
    "- Domain berfokus pada pemeriksaan pembuluh dan kelenjar limfa secara radiologis.\n",
    "- This lymphography domain was obtained from the University Medical Centre, Institute of Oncology, Ljubljana, Yugoslavia.\n",
    "- Data Set Characteristics:  Multivariate\n",
    "- Attribute Characteristics: Categorical\n",
    "- Associated Tasks: Classification\n",
    "- Number of Instances:148\n",
    "- Number of Attributes:18\n",
    "- Date Donated: November 1, 1988"
   ]
  },
  {
   "cell_type": "code",
   "execution_count": 2,
   "metadata": {
    "id": "jorKlpnRfleG"
   },
   "outputs": [],
   "source": [
    "# Mendefinisikan link dataset\n",
    "url = \"https://archive.ics.uci.edu/ml/machine-learning-databases/lymphography/lymphography.data\"\n",
    "\n",
    "# Mendefinisikan list berisi kolom - kolom dataset\n",
    "names = ['class','lymphatic','bof','bolc','bols','bp','e','r','eu','lnd','lnu','cil','din','cin','cis','sf','do','eon','nodes']\n",
    "dataset = pandas.read_csv(url, names=names)"
   ]
  },
  {
   "cell_type": "markdown",
   "metadata": {
    "id": "zGDcNukJO3Zi"
   },
   "source": [
    "## 🔎 Melihat Data dalam Dataset"
   ]
  },
  {
   "cell_type": "code",
   "execution_count": 3,
   "metadata": {
    "colab": {
     "base_uri": "https://localhost:8080/",
     "height": 363
    },
    "id": "rn9Xbp46cmPb",
    "outputId": "83a1eed3-1bd6-4f17-c93d-af9abf9a2663"
   },
   "outputs": [
    {
     "data": {
      "text/html": [
       "<div>\n",
       "<style scoped>\n",
       "    .dataframe tbody tr th:only-of-type {\n",
       "        vertical-align: middle;\n",
       "    }\n",
       "\n",
       "    .dataframe tbody tr th {\n",
       "        vertical-align: top;\n",
       "    }\n",
       "\n",
       "    .dataframe thead th {\n",
       "        text-align: right;\n",
       "    }\n",
       "</style>\n",
       "<table border=\"1\" class=\"dataframe\">\n",
       "  <thead>\n",
       "    <tr style=\"text-align: right;\">\n",
       "      <th></th>\n",
       "      <th>class</th>\n",
       "      <th>lymphatic</th>\n",
       "      <th>bof</th>\n",
       "      <th>bolc</th>\n",
       "      <th>bols</th>\n",
       "      <th>bp</th>\n",
       "      <th>e</th>\n",
       "      <th>r</th>\n",
       "      <th>eu</th>\n",
       "      <th>lnd</th>\n",
       "      <th>lnu</th>\n",
       "      <th>cil</th>\n",
       "      <th>din</th>\n",
       "      <th>cin</th>\n",
       "      <th>cis</th>\n",
       "      <th>sf</th>\n",
       "      <th>do</th>\n",
       "      <th>eon</th>\n",
       "      <th>nodes</th>\n",
       "    </tr>\n",
       "  </thead>\n",
       "  <tbody>\n",
       "    <tr>\n",
       "      <th>0</th>\n",
       "      <td>3</td>\n",
       "      <td>4</td>\n",
       "      <td>2</td>\n",
       "      <td>1</td>\n",
       "      <td>1</td>\n",
       "      <td>1</td>\n",
       "      <td>1</td>\n",
       "      <td>1</td>\n",
       "      <td>2</td>\n",
       "      <td>1</td>\n",
       "      <td>2</td>\n",
       "      <td>2</td>\n",
       "      <td>2</td>\n",
       "      <td>4</td>\n",
       "      <td>8</td>\n",
       "      <td>1</td>\n",
       "      <td>1</td>\n",
       "      <td>2</td>\n",
       "      <td>2</td>\n",
       "    </tr>\n",
       "    <tr>\n",
       "      <th>1</th>\n",
       "      <td>2</td>\n",
       "      <td>3</td>\n",
       "      <td>2</td>\n",
       "      <td>1</td>\n",
       "      <td>1</td>\n",
       "      <td>2</td>\n",
       "      <td>2</td>\n",
       "      <td>1</td>\n",
       "      <td>2</td>\n",
       "      <td>1</td>\n",
       "      <td>3</td>\n",
       "      <td>3</td>\n",
       "      <td>2</td>\n",
       "      <td>3</td>\n",
       "      <td>4</td>\n",
       "      <td>2</td>\n",
       "      <td>2</td>\n",
       "      <td>2</td>\n",
       "      <td>2</td>\n",
       "    </tr>\n",
       "    <tr>\n",
       "      <th>2</th>\n",
       "      <td>3</td>\n",
       "      <td>3</td>\n",
       "      <td>2</td>\n",
       "      <td>2</td>\n",
       "      <td>2</td>\n",
       "      <td>2</td>\n",
       "      <td>2</td>\n",
       "      <td>2</td>\n",
       "      <td>2</td>\n",
       "      <td>1</td>\n",
       "      <td>4</td>\n",
       "      <td>3</td>\n",
       "      <td>3</td>\n",
       "      <td>4</td>\n",
       "      <td>8</td>\n",
       "      <td>3</td>\n",
       "      <td>2</td>\n",
       "      <td>2</td>\n",
       "      <td>7</td>\n",
       "    </tr>\n",
       "    <tr>\n",
       "      <th>3</th>\n",
       "      <td>3</td>\n",
       "      <td>3</td>\n",
       "      <td>1</td>\n",
       "      <td>1</td>\n",
       "      <td>1</td>\n",
       "      <td>1</td>\n",
       "      <td>2</td>\n",
       "      <td>1</td>\n",
       "      <td>2</td>\n",
       "      <td>1</td>\n",
       "      <td>3</td>\n",
       "      <td>3</td>\n",
       "      <td>4</td>\n",
       "      <td>4</td>\n",
       "      <td>4</td>\n",
       "      <td>3</td>\n",
       "      <td>1</td>\n",
       "      <td>2</td>\n",
       "      <td>6</td>\n",
       "    </tr>\n",
       "    <tr>\n",
       "      <th>4</th>\n",
       "      <td>2</td>\n",
       "      <td>3</td>\n",
       "      <td>1</td>\n",
       "      <td>1</td>\n",
       "      <td>1</td>\n",
       "      <td>1</td>\n",
       "      <td>1</td>\n",
       "      <td>1</td>\n",
       "      <td>1</td>\n",
       "      <td>1</td>\n",
       "      <td>2</td>\n",
       "      <td>2</td>\n",
       "      <td>4</td>\n",
       "      <td>3</td>\n",
       "      <td>5</td>\n",
       "      <td>1</td>\n",
       "      <td>2</td>\n",
       "      <td>2</td>\n",
       "      <td>1</td>\n",
       "    </tr>\n",
       "    <tr>\n",
       "      <th>5</th>\n",
       "      <td>2</td>\n",
       "      <td>2</td>\n",
       "      <td>1</td>\n",
       "      <td>1</td>\n",
       "      <td>1</td>\n",
       "      <td>1</td>\n",
       "      <td>1</td>\n",
       "      <td>1</td>\n",
       "      <td>2</td>\n",
       "      <td>1</td>\n",
       "      <td>3</td>\n",
       "      <td>3</td>\n",
       "      <td>3</td>\n",
       "      <td>3</td>\n",
       "      <td>6</td>\n",
       "      <td>3</td>\n",
       "      <td>1</td>\n",
       "      <td>2</td>\n",
       "      <td>4</td>\n",
       "    </tr>\n",
       "    <tr>\n",
       "      <th>6</th>\n",
       "      <td>2</td>\n",
       "      <td>2</td>\n",
       "      <td>2</td>\n",
       "      <td>1</td>\n",
       "      <td>1</td>\n",
       "      <td>1</td>\n",
       "      <td>1</td>\n",
       "      <td>1</td>\n",
       "      <td>2</td>\n",
       "      <td>1</td>\n",
       "      <td>2</td>\n",
       "      <td>3</td>\n",
       "      <td>2</td>\n",
       "      <td>3</td>\n",
       "      <td>8</td>\n",
       "      <td>2</td>\n",
       "      <td>1</td>\n",
       "      <td>1</td>\n",
       "      <td>1</td>\n",
       "    </tr>\n",
       "    <tr>\n",
       "      <th>7</th>\n",
       "      <td>2</td>\n",
       "      <td>3</td>\n",
       "      <td>2</td>\n",
       "      <td>1</td>\n",
       "      <td>1</td>\n",
       "      <td>1</td>\n",
       "      <td>2</td>\n",
       "      <td>1</td>\n",
       "      <td>2</td>\n",
       "      <td>1</td>\n",
       "      <td>2</td>\n",
       "      <td>2</td>\n",
       "      <td>2</td>\n",
       "      <td>2</td>\n",
       "      <td>1</td>\n",
       "      <td>3</td>\n",
       "      <td>1</td>\n",
       "      <td>1</td>\n",
       "      <td>1</td>\n",
       "    </tr>\n",
       "    <tr>\n",
       "      <th>8</th>\n",
       "      <td>3</td>\n",
       "      <td>2</td>\n",
       "      <td>2</td>\n",
       "      <td>1</td>\n",
       "      <td>1</td>\n",
       "      <td>1</td>\n",
       "      <td>1</td>\n",
       "      <td>1</td>\n",
       "      <td>2</td>\n",
       "      <td>1</td>\n",
       "      <td>3</td>\n",
       "      <td>2</td>\n",
       "      <td>2</td>\n",
       "      <td>2</td>\n",
       "      <td>8</td>\n",
       "      <td>3</td>\n",
       "      <td>1</td>\n",
       "      <td>2</td>\n",
       "      <td>5</td>\n",
       "    </tr>\n",
       "    <tr>\n",
       "      <th>9</th>\n",
       "      <td>3</td>\n",
       "      <td>2</td>\n",
       "      <td>1</td>\n",
       "      <td>1</td>\n",
       "      <td>1</td>\n",
       "      <td>1</td>\n",
       "      <td>1</td>\n",
       "      <td>1</td>\n",
       "      <td>2</td>\n",
       "      <td>1</td>\n",
       "      <td>2</td>\n",
       "      <td>2</td>\n",
       "      <td>3</td>\n",
       "      <td>3</td>\n",
       "      <td>5</td>\n",
       "      <td>3</td>\n",
       "      <td>1</td>\n",
       "      <td>1</td>\n",
       "      <td>2</td>\n",
       "    </tr>\n",
       "  </tbody>\n",
       "</table>\n",
       "</div>"
      ],
      "text/plain": [
       "   class  lymphatic  bof  bolc  bols  bp  e  r  eu  lnd  lnu  cil  din  cin  \\\n",
       "0      3          4    2     1     1   1  1  1   2    1    2    2    2    4   \n",
       "1      2          3    2     1     1   2  2  1   2    1    3    3    2    3   \n",
       "2      3          3    2     2     2   2  2  2   2    1    4    3    3    4   \n",
       "3      3          3    1     1     1   1  2  1   2    1    3    3    4    4   \n",
       "4      2          3    1     1     1   1  1  1   1    1    2    2    4    3   \n",
       "5      2          2    1     1     1   1  1  1   2    1    3    3    3    3   \n",
       "6      2          2    2     1     1   1  1  1   2    1    2    3    2    3   \n",
       "7      2          3    2     1     1   1  2  1   2    1    2    2    2    2   \n",
       "8      3          2    2     1     1   1  1  1   2    1    3    2    2    2   \n",
       "9      3          2    1     1     1   1  1  1   2    1    2    2    3    3   \n",
       "\n",
       "   cis  sf  do  eon  nodes  \n",
       "0    8   1   1    2      2  \n",
       "1    4   2   2    2      2  \n",
       "2    8   3   2    2      7  \n",
       "3    4   3   1    2      6  \n",
       "4    5   1   2    2      1  \n",
       "5    6   3   1    2      4  \n",
       "6    8   2   1    1      1  \n",
       "7    1   3   1    1      1  \n",
       "8    8   3   1    2      5  \n",
       "9    5   3   1    1      2  "
      ]
     },
     "execution_count": 3,
     "metadata": {},
     "output_type": "execute_result"
    }
   ],
   "source": [
    "dataset.head(10)"
   ]
  },
  {
   "cell_type": "markdown",
   "metadata": {
    "id": "lNd1FJ5MWZzD"
   },
   "source": [
    "## 🌏 Melihat Distribusi Class Dataset"
   ]
  },
  {
   "cell_type": "code",
   "execution_count": 4,
   "metadata": {
    "colab": {
     "base_uri": "https://localhost:8080/"
    },
    "id": "RG3Ms26gWwgU",
    "outputId": "bb598cb1-83a5-4b92-ce03-b29865dcf1d6"
   },
   "outputs": [
    {
     "data": {
      "text/plain": [
       "class\n",
       "1     2\n",
       "2    81\n",
       "3    61\n",
       "4     4\n",
       "dtype: int64"
      ]
     },
     "execution_count": 4,
     "metadata": {},
     "output_type": "execute_result"
    }
   ],
   "source": [
    "# Distribusi kelas data\n",
    "dataset.groupby('class').size()"
   ]
  },
  {
   "cell_type": "markdown",
   "metadata": {
    "id": "fq8isJYTC94y"
   },
   "source": [
    "## 🚧 Membagi Dataset \n",
    "- 80% digunakan untuk melatih model (Training datasets)\n",
    "- 20% digunakan untuk data validasi dan menghitung keakuratan model (Validation datasets)\n"
   ]
  },
  {
   "cell_type": "code",
   "execution_count": 5,
   "metadata": {
    "id": "t58KjslYkddM"
   },
   "outputs": [],
   "source": [
    "# menyimpan nilai-nilai dalam dataset ke dalam variabel array\n",
    "array = dataset.values\n",
    "\n",
    "# menyimpan data fitur- fitur pada dataset ke dalam variabel X\n",
    "# Data fitur terdapat pada indeks 0-18 (termasuk label)\n",
    "X = array[:,0:18]\n",
    "\n",
    "# menyimpan data label pada dataset ke dalam variabel Y\n",
    "# Data label terdapat pada indeks 0\n",
    "Y = array[:,0]\n",
    "\n",
    "# mendefinisikan ukuran testing data dan seed untuk random state\n",
    "validation_size = 0.20\n",
    "seed = 7\n",
    "X_train, X_validation, Y_train, Y_validation = model_selection.train_test_split(X, Y, test_size=validation_size, random_state=seed)"
   ]
  },
  {
   "cell_type": "markdown",
   "metadata": {
    "id": "JdNnPshbXJ4G"
   },
   "source": [
    "## 🔑 Melihat Label Data dalam Validation Dataset"
   ]
  },
  {
   "cell_type": "code",
   "execution_count": 6,
   "metadata": {
    "colab": {
     "base_uri": "https://localhost:8080/"
    },
    "id": "OsHRn2qZXO_b",
    "outputId": "56c7ca04-f1fa-41a8-ef31-568a3853d571"
   },
   "outputs": [
    {
     "name": "stdout",
     "output_type": "stream",
     "text": [
      "[2 3 3 3 2 3 2 3 2 3 2 2 2 2 2 2 2 2 2 3 3 2 2 3 3 3 2 3 2 2]\n"
     ]
    }
   ],
   "source": [
    "print(Y_validation)"
   ]
  },
  {
   "cell_type": "markdown",
   "metadata": {
    "id": "mVYVMzi8D-bP"
   },
   "source": [
    "## 🔨 Membangun Model\n",
    "#### Algoritma yang akan dicoba untuk menemukan model terbaik antara lain:\n",
    "1. Nearest Neighbors - KNeighborsClassifier\n",
    "2. Naive Bayes - Gaussian Naive Bayes\n",
    "3. Support Vector Machine - SVC\n",
    "4. Stochastic Gradient Descent - SGDClassifier\n",
    "5. Decision Tree - DecisionTreeClassifier"
   ]
  },
  {
   "cell_type": "code",
   "execution_count": 7,
   "metadata": {
    "id": "HEqljO0bqx5A"
   },
   "outputs": [],
   "source": [
    "# Import library berisi algoritma klasifikasi yang akan digunakan\n",
    "from sklearn.neighbors import KNeighborsClassifier\n",
    "from sklearn.naive_bayes import GaussianNB\n",
    "from sklearn.svm import SVC\n",
    "from sklearn.linear_model import SGDClassifier\n",
    "from sklearn.tree import DecisionTreeClassifier\n",
    "\n",
    "# mendefinisikan array kosong\n",
    "models = []\n",
    "\n",
    "# membuat array asosiatif berisi nama algoritma dan algoritma klasifikasinya\n",
    "models.append(('KNN', KNeighborsClassifier()))\n",
    "models.append(('NB', GaussianNB()))\n",
    "models.append(('SVM', SVC()))\n",
    "models.append(('SGD', SGDClassifier()))\n",
    "models.append(('Tree', DecisionTreeClassifier()))"
   ]
  },
  {
   "cell_type": "markdown",
   "metadata": {
    "id": "BQwel9-pDjXV"
   },
   "source": [
    "## ⚡ K-Folds Cross Validation\n",
    "- Random state = 7 \n",
    "- Penilaian model berdasarkan akurasi"
   ]
  },
  {
   "cell_type": "code",
   "execution_count": 8,
   "metadata": {
    "colab": {
     "base_uri": "https://localhost:8080/"
    },
    "id": "tBQNQm-nuCkX",
    "outputId": "ae5a103e-a3cd-40c5-e904-c7ba18379522"
   },
   "outputs": [
    {
     "name": "stdout",
     "output_type": "stream",
     "text": [
      "KNN: 0.805303 (0.158804)\n",
      "NB: 0.958333 (0.076830)\n",
      "SVM: 0.925000 (0.126106)\n",
      "SGD: 0.890909 (0.098787)\n",
      "Tree: 1.000000 (0.000000)\n"
     ]
    }
   ],
   "source": [
    "# Mendefinisikan seed dan scoring yang digunakan untuk menguji model dengan \n",
    "# validation data\n",
    "seed = 7\n",
    "scoring = 'accuracy'\n",
    "\n",
    "# Menyimpan hasil pengujian\n",
    "results = []\n",
    "names = []\n",
    "\n",
    "# membagi data menjadi training dan validation set menggunakan K-Fold cross\n",
    "# validation dengan k = 10\n",
    "for name, model in models:\n",
    "  kfold = model_selection.KFold(n_splits=10, random_state=seed, shuffle=True)\n",
    "  cv_results = model_selection.cross_val_score(model, X_train, Y_train,\n",
    "                                               cv=kfold, scoring=scoring)\n",
    "  \n",
    "  # menguji akurasi dari masing-masing model menggunakan validation data\n",
    "  results.append(cv_results)\n",
    "  names.append(name)\n",
    "  msg = \"%s: %f (%f)\" % (name, cv_results.mean(), cv_results.std())\n",
    "  print(msg)"
   ]
  },
  {
   "cell_type": "markdown",
   "metadata": {
    "id": "VNvEyGLOUwJc"
   },
   "source": [
    "## 🏆 Menghitung Keakuratan Model Terbaik dengan Data Validasi"
   ]
  },
  {
   "cell_type": "code",
   "execution_count": 9,
   "metadata": {
    "colab": {
     "base_uri": "https://localhost:8080/"
    },
    "id": "8kuLHit_tOxm",
    "outputId": "025895bc-7d59-4c03-8c9d-ca5d72fed0cb"
   },
   "outputs": [
    {
     "name": "stdout",
     "output_type": "stream",
     "text": [
      "Akurasi:  1.0\n",
      "Confusion Matrix:\n",
      " [[18  0]\n",
      " [ 0 12]] \n",
      "\n",
      "Classification Report:\n",
      "               precision    recall  f1-score   support\n",
      "\n",
      "           2       1.00      1.00      1.00        18\n",
      "           3       1.00      1.00      1.00        12\n",
      "\n",
      "    accuracy                           1.00        30\n",
      "   macro avg       1.00      1.00      1.00        30\n",
      "weighted avg       1.00      1.00      1.00        30\n",
      "\n"
     ]
    }
   ],
   "source": [
    "# import library untuk mengevaluasi algoritma\n",
    "from sklearn.metrics import accuracy_score, confusion_matrix, classification_report\n",
    "\n",
    "# mendefinisikan KNN\n",
    "bestModel = DecisionTreeClassifier()\n",
    "\n",
    "# melatih data training dengan algoritma dari model terbaik\n",
    "bestModel.fit(X_train, Y_train)\n",
    "\n",
    "# menguji model klasifikasi yang dihasilkan dari proses pelatihan data dengan\n",
    "# testing data\n",
    "predictions = bestModel.predict(X_validation)\n",
    "\n",
    "print(\"Akurasi: \", accuracy_score(Y_validation, predictions))\n",
    "print(\"Confusion Matrix:\\n\", confusion_matrix(Y_validation, predictions), \"\\n\")\n",
    "print(\"Classification Report:\\n\", classification_report(Y_validation, predictions))"
   ]
  },
  {
   "cell_type": "markdown",
   "metadata": {
    "id": "zE5i1u6GZHzt"
   },
   "source": [
    "## 🚚 Export Model untuk Dipakai di Website"
   ]
  },
  {
   "cell_type": "code",
   "execution_count": 10,
   "metadata": {
    "id": "N0MmHmHAfxV-"
   },
   "outputs": [],
   "source": [
    "# Hasil dump akan tampil jika dilakukan lewat Jupyter Notebook\n",
    "filename='best_model.pkl'\n",
    "pickle.dump(bestModel, open(filename,'wb'))"
   ]
  },
  {
   "cell_type": "markdown",
   "metadata": {
    "id": "tNReG0bHaFgO"
   },
   "source": [
    "## 🛸 Cara Alternatif Export Model (Khusus Colab)"
   ]
  },
  {
   "cell_type": "code",
   "execution_count": null,
   "metadata": {
    "id": "WGLUApjlgC5O"
   },
   "outputs": [],
   "source": [
    "# Jika dilakukan lewat Google Colab\n",
    "# import gc\n",
    "# import pickle\n",
    "# from google.colab import drive\n",
    "# drive.mount('/content/drive', force_remount=True)\n",
    "\n",
    "# Export Pickle File\n",
    "# pick_insert = open('drive/My Drive/data.pickle','wb')\n",
    "# pickle.dump(data, pick_insert)\n",
    "# pick_insert.close()\n",
    "\n",
    "# Import Pickle File (Tidak perlu dipakai)\n",
    "# pick_read = open('drive/My Drive/data.pickle','rb')\n",
    "# data = pickle.load(pick_read)\n",
    "# pick_read.close()"
   ]
  },
  {
   "cell_type": "markdown",
   "metadata": {},
   "source": [
    "## 🚨 Install Library Khusus Jupyter Notebook"
   ]
  },
  {
   "cell_type": "code",
   "execution_count": 3,
   "metadata": {
    "id": "W_NzJib1gwSv"
   },
   "outputs": [
    {
     "name": "stdout",
     "output_type": "stream",
     "text": [
      "Requirement already satisfied: pandas in c:\\users\\dimas\\appdata\\local\\programs\\python\\python311\\lib\\site-packages (1.5.1)\n",
      "Requirement already satisfied: python-dateutil>=2.8.1 in c:\\users\\dimas\\appdata\\local\\programs\\python\\python311\\lib\\site-packages (from pandas) (2.8.2)\n",
      "Requirement already satisfied: pytz>=2020.1 in c:\\users\\dimas\\appdata\\local\\programs\\python\\python311\\lib\\site-packages (from pandas) (2022.6)\n",
      "Requirement already satisfied: numpy>=1.21.0 in c:\\users\\dimas\\appdata\\local\\programs\\python\\python311\\lib\\site-packages (from pandas) (1.23.4)\n",
      "Requirement already satisfied: six>=1.5 in c:\\users\\dimas\\appdata\\local\\programs\\python\\python311\\lib\\site-packages (from python-dateutil>=2.8.1->pandas) (1.16.0)\n",
      "Note: you may need to restart the kernel to use updated packages.\n"
     ]
    }
   ],
   "source": [
    "pip install pandas"
   ]
  },
  {
   "cell_type": "code",
   "execution_count": 2,
   "metadata": {},
   "outputs": [
    {
     "name": "stdout",
     "output_type": "stream",
     "text": [
      "Collecting scikit-learnNote: you may need to restart the kernel to use updated packages.\n",
      "\n",
      "  Downloading scikit_learn-1.1.3-cp311-cp311-win_amd64.whl (7.5 MB)\n",
      "     ---------------------------------------- 7.5/7.5 MB 3.6 MB/s eta 0:00:00\n",
      "Collecting scipy\n",
      "  Downloading scipy-1.9.3-cp311-cp311-win_amd64.whl (39.9 MB)\n",
      "     ---------------------------------------- 39.9/39.9 MB 3.6 MB/s eta 0:00:00\n",
      "Collecting matplotlib\n",
      "  Using cached matplotlib-3.6.2-cp311-cp311-win_amd64.whl (7.2 MB)\n",
      "Requirement already satisfied: numpy>=1.17.3 in c:\\users\\dimas\\appdata\\local\\programs\\python\\python311\\lib\\site-packages (from scikit-learn) (1.23.4)\n",
      "Collecting joblib>=1.0.0\n",
      "  Downloading joblib-1.2.0-py3-none-any.whl (297 kB)\n",
      "     -------------------------------------- 298.0/298.0 kB 2.6 MB/s eta 0:00:00\n",
      "Collecting threadpoolctl>=2.0.0\n",
      "  Downloading threadpoolctl-3.1.0-py3-none-any.whl (14 kB)\n",
      "Collecting contourpy>=1.0.1\n",
      "  Using cached contourpy-1.0.6-cp311-cp311-win_amd64.whl (163 kB)\n",
      "Collecting cycler>=0.10\n",
      "  Using cached cycler-0.11.0-py3-none-any.whl (6.4 kB)\n",
      "Collecting fonttools>=4.22.0\n",
      "  Using cached fonttools-4.38.0-py3-none-any.whl (965 kB)\n",
      "Collecting kiwisolver>=1.0.1\n",
      "  Using cached kiwisolver-1.4.4-cp311-cp311-win_amd64.whl (55 kB)\n",
      "Requirement already satisfied: packaging>=20.0 in c:\\users\\dimas\\appdata\\local\\programs\\python\\python311\\lib\\site-packages (from matplotlib) (21.3)\n",
      "Collecting pillow>=6.2.0\n",
      "  Using cached Pillow-9.3.0-cp311-cp311-win_amd64.whl (2.5 MB)\n",
      "Requirement already satisfied: pyparsing>=2.2.1 in c:\\users\\dimas\\appdata\\local\\programs\\python\\python311\\lib\\site-packages (from matplotlib) (3.0.9)\n",
      "Requirement already satisfied: python-dateutil>=2.7 in c:\\users\\dimas\\appdata\\local\\programs\\python\\python311\\lib\\site-packages (from matplotlib) (2.8.2)\n",
      "Requirement already satisfied: six>=1.5 in c:\\users\\dimas\\appdata\\local\\programs\\python\\python311\\lib\\site-packages (from python-dateutil>=2.7->matplotlib) (1.16.0)\n",
      "Installing collected packages: threadpoolctl, scipy, pillow, kiwisolver, joblib, fonttools, cycler, contourpy, scikit-learn, matplotlib\n",
      "Successfully installed contourpy-1.0.6 cycler-0.11.0 fonttools-4.38.0 joblib-1.2.0 kiwisolver-1.4.4 matplotlib-3.6.2 pillow-9.3.0 scikit-learn-1.1.3 scipy-1.9.3 threadpoolctl-3.1.0\n"
     ]
    }
   ],
   "source": [
    "pip install -U scikit-learn scipy matplotlib"
   ]
  },
  {
   "cell_type": "code",
   "execution_count": null,
   "metadata": {},
   "outputs": [],
   "source": []
  }
 ],
 "metadata": {
  "colab": {
   "collapsed_sections": [],
   "provenance": []
  },
  "kernelspec": {
   "display_name": "Python 3 (ipykernel)",
   "language": "python",
   "name": "python3"
  },
  "language_info": {
   "codemirror_mode": {
    "name": "ipython",
    "version": 3
   },
   "file_extension": ".py",
   "mimetype": "text/x-python",
   "name": "python",
   "nbconvert_exporter": "python",
   "pygments_lexer": "ipython3",
   "version": "3.11.0"
  }
 },
 "nbformat": 4,
 "nbformat_minor": 1
}
