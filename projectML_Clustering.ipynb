{
 "cells": [
  {
   "cell_type": "markdown",
   "metadata": {
    "id": "MawB4a8hHHAP"
   },
   "source": [
    "# Tugas Project ML 👨‍💻👩‍💻"
   ]
  },
  {
   "cell_type": "markdown",
   "metadata": {
    "id": "r_60uiCJGORc"
   },
   "source": [
    "## 🙆‍♂️🙆‍♀️ Anggota Kelompok:\n",
    "1. Agnes Triana Cyntianesa\t24060120120021\n",
    "2. Arifa Alif Malicha Khairunnisa\t24060120120033\n",
    "3. Dimas Wahyu Ardiyanto\t24060120140159\n",
    "4. Muhammad Hafizh Roihan\t24060120130123\n",
    "5. Vito Ahmad Husein\t24060120140111\n",
    "6. Zara Zetira Puti\t24060120120030"
   ]
  },
  {
   "cell_type": "markdown",
   "metadata": {
    "id": "_UVzyQ-BF4Js"
   },
   "source": [
    "## 🕵️‍♂️ Link Deskripsi Dataset\n",
    "https://archive.ics.uci.edu/ml/datasets/seeds\n",
    "## 👩‍🏫 Link Data Dataset\n",
    "https://archive.ics.uci.edu/ml/machine-learning-databases/00236/seeds_dataset.txt\n",
    "## 👨‍🚒 Alternative (Kaggle)\n",
    "https://www.kaggle.com/datasets/rwzhang/seeds-dataset"
   ]
  },
  {
   "cell_type": "markdown",
   "metadata": {
    "id": "7i3GMeUybvNK"
   },
   "source": [
    "## 📜 Deskripsi Singkat Dataset\n",
    "##### Dataset ini adalah hasil penelitian terhadap 3 jenis varietas gandum yang berbeda:\n",
    "- Kama\n",
    "- Rosa\n",
    "- Candaian\n",
    "\n",
    "##### Masing-masing varietas terdapat 70 data yang dipilih secara acak dalam percobaan penelitian dengan menggunakan bantuan sinar-X yang tidak merusak dan alat pencitraan yang canggih.\n",
    "\\\n",
    "##### Attribute Information:\n",
    "1. area A,\n",
    "2. perimeter P,\n",
    "3. compactness C = 4*pi*A/P^2,\n",
    "4. length of kernel,\n",
    "5. width of kernel,\n",
    "6. asymmetry coefficient\n",
    "7. length of kernel groove.\n",
    "\n",
    "\\\n",
    "##### ❗ All of these parameters were real-valued continuous."
   ]
  },
  {
   "cell_type": "markdown",
   "metadata": {
    "id": "F6z4-usVHm9O"
   },
   "source": [
    "## 📚 Import Library \n"
   ]
  },
  {
   "cell_type": "code",
   "execution_count": 1,
   "metadata": {
    "id": "eS__h4x4fnlU"
   },
   "outputs": [],
   "source": [
    "# Pandas is a Python library for data analysis\n",
    "import pandas\n",
    "\n",
    "# Pickle can transform a complex object into a byte stream and it can transform the byte stream into an object with the same internal structure\n",
    "import pickle\n",
    "\n",
    "# The KMeans class from the sklearn is a cluster module from the Scikit-learn library is used for k-means clustering\n",
    "from sklearn.cluster import KMeans\n",
    "\n",
    "# The Silhouette Coefficient is a measure of how well samples are clustered with samples that are similar to themselves\n",
    "from sklearn.metrics.cluster import silhouette_score\n",
    "\n",
    "# NumPy is a Python library used for working with arrays\n",
    "import numpy as np\n",
    "\n",
    "# matplotlib for data visualization\n",
    "import matplotlib.pyplot as plt\n",
    "%matplotlib inline"
   ]
  },
  {
   "cell_type": "markdown",
   "metadata": {
    "id": "rh0VhSidCOUH"
   },
   "source": [
    "## 📋 Menyiapkan Dataset"
   ]
  },
  {
   "cell_type": "code",
   "execution_count": 2,
   "metadata": {
    "id": "jorKlpnRfleG"
   },
   "outputs": [],
   "source": [
    "# Mendefinisikan link dataset\n",
    "url = \"https://archive.ics.uci.edu/ml/machine-learning-databases/00236/seeds_dataset.txt\"\n",
    "\n",
    "# Mendefinisikan list berisi kolom - kolom dataset\n",
    "names=['area','perimeter','compactness','lengthOfKernel','widthOfKernel','asymmetryCoefficient',\n",
    "                      'lengthOfKernelGroove','seedType']\n",
    "dataset = pandas.read_csv(url, names=names, header = None, sep = \"\\s+\")"
   ]
  },
  {
   "cell_type": "markdown",
   "metadata": {
    "id": "zGDcNukJO3Zi"
   },
   "source": [
    "## 🔎 Melihat Data dalam Dataset"
   ]
  },
  {
   "cell_type": "code",
   "execution_count": 3,
   "metadata": {
    "colab": {
     "base_uri": "https://localhost:8080/",
     "height": 424
    },
    "id": "rn9Xbp46cmPb",
    "outputId": "4e199345-895f-42b6-ba62-f212b53ff656"
   },
   "outputs": [
    {
     "data": {
      "text/html": [
       "<div>\n",
       "<style scoped>\n",
       "    .dataframe tbody tr th:only-of-type {\n",
       "        vertical-align: middle;\n",
       "    }\n",
       "\n",
       "    .dataframe tbody tr th {\n",
       "        vertical-align: top;\n",
       "    }\n",
       "\n",
       "    .dataframe thead th {\n",
       "        text-align: right;\n",
       "    }\n",
       "</style>\n",
       "<table border=\"1\" class=\"dataframe\">\n",
       "  <thead>\n",
       "    <tr style=\"text-align: right;\">\n",
       "      <th></th>\n",
       "      <th>area</th>\n",
       "      <th>perimeter</th>\n",
       "      <th>compactness</th>\n",
       "      <th>lengthOfKernel</th>\n",
       "      <th>widthOfKernel</th>\n",
       "      <th>asymmetryCoefficient</th>\n",
       "      <th>lengthOfKernelGroove</th>\n",
       "      <th>seedType</th>\n",
       "    </tr>\n",
       "  </thead>\n",
       "  <tbody>\n",
       "    <tr>\n",
       "      <th>0</th>\n",
       "      <td>15.26</td>\n",
       "      <td>14.84</td>\n",
       "      <td>0.8710</td>\n",
       "      <td>5.763</td>\n",
       "      <td>3.312</td>\n",
       "      <td>2.221</td>\n",
       "      <td>5.220</td>\n",
       "      <td>1</td>\n",
       "    </tr>\n",
       "    <tr>\n",
       "      <th>1</th>\n",
       "      <td>14.88</td>\n",
       "      <td>14.57</td>\n",
       "      <td>0.8811</td>\n",
       "      <td>5.554</td>\n",
       "      <td>3.333</td>\n",
       "      <td>1.018</td>\n",
       "      <td>4.956</td>\n",
       "      <td>1</td>\n",
       "    </tr>\n",
       "    <tr>\n",
       "      <th>2</th>\n",
       "      <td>14.29</td>\n",
       "      <td>14.09</td>\n",
       "      <td>0.9050</td>\n",
       "      <td>5.291</td>\n",
       "      <td>3.337</td>\n",
       "      <td>2.699</td>\n",
       "      <td>4.825</td>\n",
       "      <td>1</td>\n",
       "    </tr>\n",
       "    <tr>\n",
       "      <th>3</th>\n",
       "      <td>13.84</td>\n",
       "      <td>13.94</td>\n",
       "      <td>0.8955</td>\n",
       "      <td>5.324</td>\n",
       "      <td>3.379</td>\n",
       "      <td>2.259</td>\n",
       "      <td>4.805</td>\n",
       "      <td>1</td>\n",
       "    </tr>\n",
       "    <tr>\n",
       "      <th>4</th>\n",
       "      <td>16.14</td>\n",
       "      <td>14.99</td>\n",
       "      <td>0.9034</td>\n",
       "      <td>5.658</td>\n",
       "      <td>3.562</td>\n",
       "      <td>1.355</td>\n",
       "      <td>5.175</td>\n",
       "      <td>1</td>\n",
       "    </tr>\n",
       "    <tr>\n",
       "      <th>...</th>\n",
       "      <td>...</td>\n",
       "      <td>...</td>\n",
       "      <td>...</td>\n",
       "      <td>...</td>\n",
       "      <td>...</td>\n",
       "      <td>...</td>\n",
       "      <td>...</td>\n",
       "      <td>...</td>\n",
       "    </tr>\n",
       "    <tr>\n",
       "      <th>205</th>\n",
       "      <td>12.19</td>\n",
       "      <td>13.20</td>\n",
       "      <td>0.8783</td>\n",
       "      <td>5.137</td>\n",
       "      <td>2.981</td>\n",
       "      <td>3.631</td>\n",
       "      <td>4.870</td>\n",
       "      <td>3</td>\n",
       "    </tr>\n",
       "    <tr>\n",
       "      <th>206</th>\n",
       "      <td>11.23</td>\n",
       "      <td>12.88</td>\n",
       "      <td>0.8511</td>\n",
       "      <td>5.140</td>\n",
       "      <td>2.795</td>\n",
       "      <td>4.325</td>\n",
       "      <td>5.003</td>\n",
       "      <td>3</td>\n",
       "    </tr>\n",
       "    <tr>\n",
       "      <th>207</th>\n",
       "      <td>13.20</td>\n",
       "      <td>13.66</td>\n",
       "      <td>0.8883</td>\n",
       "      <td>5.236</td>\n",
       "      <td>3.232</td>\n",
       "      <td>8.315</td>\n",
       "      <td>5.056</td>\n",
       "      <td>3</td>\n",
       "    </tr>\n",
       "    <tr>\n",
       "      <th>208</th>\n",
       "      <td>11.84</td>\n",
       "      <td>13.21</td>\n",
       "      <td>0.8521</td>\n",
       "      <td>5.175</td>\n",
       "      <td>2.836</td>\n",
       "      <td>3.598</td>\n",
       "      <td>5.044</td>\n",
       "      <td>3</td>\n",
       "    </tr>\n",
       "    <tr>\n",
       "      <th>209</th>\n",
       "      <td>12.30</td>\n",
       "      <td>13.34</td>\n",
       "      <td>0.8684</td>\n",
       "      <td>5.243</td>\n",
       "      <td>2.974</td>\n",
       "      <td>5.637</td>\n",
       "      <td>5.063</td>\n",
       "      <td>3</td>\n",
       "    </tr>\n",
       "  </tbody>\n",
       "</table>\n",
       "<p>210 rows × 8 columns</p>\n",
       "</div>"
      ],
      "text/plain": [
       "      area  perimeter  compactness  lengthOfKernel  widthOfKernel  \\\n",
       "0    15.26      14.84       0.8710           5.763          3.312   \n",
       "1    14.88      14.57       0.8811           5.554          3.333   \n",
       "2    14.29      14.09       0.9050           5.291          3.337   \n",
       "3    13.84      13.94       0.8955           5.324          3.379   \n",
       "4    16.14      14.99       0.9034           5.658          3.562   \n",
       "..     ...        ...          ...             ...            ...   \n",
       "205  12.19      13.20       0.8783           5.137          2.981   \n",
       "206  11.23      12.88       0.8511           5.140          2.795   \n",
       "207  13.20      13.66       0.8883           5.236          3.232   \n",
       "208  11.84      13.21       0.8521           5.175          2.836   \n",
       "209  12.30      13.34       0.8684           5.243          2.974   \n",
       "\n",
       "     asymmetryCoefficient  lengthOfKernelGroove  seedType  \n",
       "0                   2.221                 5.220         1  \n",
       "1                   1.018                 4.956         1  \n",
       "2                   2.699                 4.825         1  \n",
       "3                   2.259                 4.805         1  \n",
       "4                   1.355                 5.175         1  \n",
       "..                    ...                   ...       ...  \n",
       "205                 3.631                 4.870         3  \n",
       "206                 4.325                 5.003         3  \n",
       "207                 8.315                 5.056         3  \n",
       "208                 3.598                 5.044         3  \n",
       "209                 5.637                 5.063         3  \n",
       "\n",
       "[210 rows x 8 columns]"
      ]
     },
     "execution_count": 3,
     "metadata": {},
     "output_type": "execute_result"
    }
   ],
   "source": [
    "dataset"
   ]
  },
  {
   "cell_type": "markdown",
   "metadata": {
    "id": "NKrYuehGLYqq"
   },
   "source": [
    "## 🔍 Cek Data yang Bernilai Kosong"
   ]
  },
  {
   "cell_type": "code",
   "execution_count": 4,
   "metadata": {
    "colab": {
     "base_uri": "https://localhost:8080/"
    },
    "id": "-bPX2WeoLXQE",
    "outputId": "92cba70f-45d3-423d-8c6a-6e3f698c0d6a"
   },
   "outputs": [
    {
     "data": {
      "text/plain": [
       "area                    0\n",
       "perimeter               0\n",
       "compactness             0\n",
       "lengthOfKernel          0\n",
       "widthOfKernel           0\n",
       "asymmetryCoefficient    0\n",
       "lengthOfKernelGroove    0\n",
       "seedType                0\n",
       "dtype: int64"
      ]
     },
     "execution_count": 4,
     "metadata": {},
     "output_type": "execute_result"
    }
   ],
   "source": [
    "dataset.isnull().sum()"
   ]
  },
  {
   "cell_type": "markdown",
   "metadata": {
    "id": "lNd1FJ5MWZzD"
   },
   "source": [
    "## 🌏 Melihat Distribusi Class Dataset"
   ]
  },
  {
   "cell_type": "code",
   "execution_count": 5,
   "metadata": {
    "colab": {
     "base_uri": "https://localhost:8080/"
    },
    "id": "RG3Ms26gWwgU",
    "outputId": "8ea9e8f6-c320-4296-d2b5-122d519456d4"
   },
   "outputs": [
    {
     "data": {
      "text/plain": [
       "seedType\n",
       "1    70\n",
       "2    70\n",
       "3    70\n",
       "dtype: int64"
      ]
     },
     "execution_count": 5,
     "metadata": {},
     "output_type": "execute_result"
    }
   ],
   "source": [
    "# Distribusi kelas data\n",
    "dataset.groupby('seedType').size()"
   ]
  },
  {
   "cell_type": "markdown",
   "metadata": {
    "id": "LR5Nh4fHNUdg"
   },
   "source": [
    "## 🧱 Menyiapkan Data"
   ]
  },
  {
   "cell_type": "code",
   "execution_count": 6,
   "metadata": {
    "colab": {
     "base_uri": "https://localhost:8080/"
    },
    "id": "xJcxBSPKNjpz",
    "outputId": "190791c7-d2d6-4530-bab8-08446383dd75"
   },
   "outputs": [
    {
     "name": "stdout",
     "output_type": "stream",
     "text": [
      "Array Y =  [1 1 1 1 1 1 1 1 1 1 1 1 1 1 1 1 1 1 1 1 1 1 1 1 1 1 1 1 1 1 1 1 1 1 1 1 1\n",
      " 1 1 1 1 1 1 1 1 1 1 1 1 1 1 1 1 1 1 1 1 1 1 1 1 1 1 1 1 1 1 1 1 1 2 2 2 2\n",
      " 2 2 2 2 2 2 2 2 2 2 2 2 2 2 2 2 2 2 2 2 2 2 2 2 2 2 2 2 2 2 2 2 2 2 2 2 2\n",
      " 2 2 2 2 2 2 2 2 2 2 2 2 2 2 2 2 2 2 2 2 2 2 2 2 2 2 2 2 2 3 3 3 3 3 3 3 3\n",
      " 3 3 3 3 3 3 3 3 3 3 3 3 3 3 3 3 3 3 3 3 3 3 3 3 3 3 3 3 3 3 3 3 3 3 3 3 3\n",
      " 3 3 3 3 3 3 3 3 3 3 3 3 3 3 3 3 3 3 3 3 3 3 3 3 3]\n"
     ]
    }
   ],
   "source": [
    "Y = dataset['seedType']                           # Pisahkan label\n",
    "X = dataset.iloc[:, [0, 1, 2, 3, 4, 5, 6]].values # Pisahkan fitur\n",
    "Y = np.array(Y)                                   # Ubah dalam bentuk array\n",
    "print(\"Array Y = \", Y)                            # Cek nilai Y"
   ]
  },
  {
   "cell_type": "markdown",
   "metadata": {
    "id": "EAxCeZqwGeZ7"
   },
   "source": [
    "## 📊 Visualisasi Plotting Fitur yang Dipakai untuk Clustering"
   ]
  },
  {
   "cell_type": "code",
   "execution_count": 7,
   "metadata": {
    "colab": {
     "base_uri": "https://localhost:8080/",
     "height": 295
    },
    "id": "sELWUTEIEVqM",
    "outputId": "d1a84f45-f8fd-432f-eb08-1d73373adb71"
   },
   "outputs": [
    {
     "data": {
      "image/png": "[encoded data removed]",
      "text/plain": [
       "<Figure size 640x480 with 1 Axes>"
      ]
     },
     "metadata": {},
     "output_type": "display_data"
    }
   ],
   "source": [
    "# Gambaran diagram plotting untuk fitur Area(indeks 0) dan lengthOfKernelGroove(indeks 6)\n",
    "plt.plot()\n",
    "plt.scatter(X[Y == 1, 0], X[Y == 1, 6], s =80, c = 'orange', label = 'Kama Wheat')\n",
    "plt.scatter(X[Y == 2, 0], X[Y == 2, 6], s =80,  c = 'yellow', label = 'Rosa Wheat')\n",
    "plt.scatter(X[Y == 3, 0], X[Y == 3, 6], s =80,  c = 'green', label = 'Canadian Wheat')\n",
    "plt.title('Seed dataset plot')\n",
    "plt.xlabel('Area')\n",
    "plt.ylabel('Length of Kernel Groove')\n",
    "plt.legend()\n",
    "plt.show()"
   ]
  },
  {
   "cell_type": "markdown",
   "metadata": {
    "id": "S5-LTnGxGI1q"
   },
   "source": [
    "## 🔎 Mencari Nilai SSE (sum of the squared errors or deviations)"
   ]
  },
  {
   "cell_type": "code",
   "execution_count": 8,
   "metadata": {
    "colab": {
     "base_uri": "https://localhost:8080/"
    },
    "id": "mij1O78hEZQz",
    "outputId": "306feb51-6552-4153-f59d-48a280ef4ae6"
   },
   "outputs": [
    {
     "name": "stdout",
     "output_type": "stream",
     "text": [
      "k = 1 \tSSE = 2719.852410 \tDelta = 0.000000\n",
      "k = 2 \tSSE = 1011.712345 \tDelta = 1708.140065\n",
      "k = 3 \tSSE = 587.318612 \tDelta = 424.393734\n",
      "k = 4 \tSSE = 471.498309 \tDelta = 115.820302\n",
      "k = 5 \tSSE = 385.628471 \tDelta = 85.869838\n",
      "k = 6 \tSSE = 323.270272 \tDelta = 62.358199\n",
      "k = 7 \tSSE = 279.435673 \tDelta = 43.834599\n",
      "k = 8 \tSSE = 240.569548 \tDelta = 38.866125\n",
      "k = 9 \tSSE = 218.740808 \tDelta = 21.828740\n",
      "k = 10 \tSSE = 201.084648 \tDelta = 17.656160\n"
     ]
    }
   ],
   "source": [
    "# Menyimpan nilai SSE untuk setiap k\n",
    "SSE = []\n",
    "\n",
    "# Definisi nilai k -> 1-10\n",
    "K = range(1,11)\n",
    "\n",
    "# Menghitung SSE\n",
    "for k in K:\n",
    "  # Membuat model clustering\n",
    "  kmeanModel = KMeans(n_clusters=k)\n",
    "  \n",
    "  # Fitting model dengan data\n",
    "  kmeanModel.fit(X)\n",
    "\n",
    "  # Menghitung nilai SSE\n",
    "  SSE.append(kmeanModel.inertia_)\n",
    "  \n",
    "  # Print nilai SSE\n",
    "  if (k==1):\n",
    "    print('k = %d \\tSSE = %f \\tDelta = %f' % (k, SSE[k-1], 0))\n",
    "  else:\n",
    "    print('k = %d \\tSSE = %f \\tDelta = %f' % (k, SSE[k-1], abs(SSE[k-2]-SSE[k-1])))"
   ]
  },
  {
   "cell_type": "markdown",
   "metadata": {
    "id": "telr7my-Ftsm"
   },
   "source": [
    "## 💪 Visualisasi Elbow Method"
   ]
  },
  {
   "cell_type": "code",
   "execution_count": 9,
   "metadata": {
    "colab": {
     "base_uri": "https://localhost:8080/",
     "height": 295
    },
    "id": "pfhUaBmeEbYT",
    "outputId": "c7720d84-a2ff-4af0-a7e7-df135ad8cd6a"
   },
   "outputs": [
    {
     "data": {
      "image/png": "[encoded data removed]",
      "text/plain": [
       "<Figure size 640x480 with 1 Axes>"
      ]
     },
     "metadata": {},
     "output_type": "display_data"
    }
   ],
   "source": [
    "# Membuat Diagram Plotting SSE untuk Setiap K (Elbow)\n",
    "plt.plot(K, SSE, 'bx-')\n",
    "plt.xlabel('k')\n",
    "plt.ylabel('SSE')\n",
    "plt.title('The Elbow Method for Area & Length of Kernel Groove Feature')\n",
    "plt.show()"
   ]
  },
  {
   "cell_type": "markdown",
   "metadata": {
    "id": "y_VaM737FHbr"
   },
   "source": [
    "## 🔨 Melakukan Clustering dengan KMeans"
   ]
  },
  {
   "cell_type": "code",
   "execution_count": 10,
   "metadata": {
    "colab": {
     "base_uri": "https://localhost:8080/"
    },
    "id": "2YUW1EplEegv",
    "outputId": "ddf257c4-7aab-49b7-be16-3a6d65c13fdb"
   },
   "outputs": [
    {
     "name": "stdout",
     "output_type": "stream",
     "text": [
      "Label prediksi = \n",
      " [2 2 2 2 2 2 2 2 2 2 2 2 2 2 2 2 1 2 2 1 2 2 2 2 2 2 1 2 2 2 2 2 2 2 2 2 2\n",
      " 0 2 1 2 2 2 2 2 2 2 2 2 2 2 2 2 2 2 2 2 2 2 2 1 1 1 1 2 2 2 2 2 1 0 0 0 0\n",
      " 0 0 0 0 0 0 0 0 0 0 0 0 0 0 0 0 0 0 0 0 0 0 0 0 0 0 2 0 0 0 0 0 0 0 0 0 0\n",
      " 0 0 0 0 0 0 0 0 0 0 0 2 0 2 0 0 0 0 0 0 0 2 2 2 2 0 2 2 2 1 1 1 1 1 1 1 1\n",
      " 1 1 1 1 1 1 1 1 1 1 1 1 1 1 1 1 1 1 1 1 1 1 1 1 1 1 1 1 1 1 1 2 1 1 1 1 1\n",
      " 1 1 1 1 1 1 1 1 1 1 1 1 1 1 1 1 2 1 1 1 1 1 1 1 1] \n",
      "\n",
      "Centroid cluster 0 = \n",
      " [18.72180328 16.29737705  0.88508689  6.20893443  3.72267213  3.60359016\n",
      "  6.06609836] \n",
      "\n",
      "Centroid cluster 1 = \n",
      " [11.96441558 13.27480519  0.8522      5.22928571  2.87292208  4.75974026\n",
      "  5.08851948] \n",
      "\n",
      "Centroid cluster 2 = \n",
      " [14.64847222 14.46041667  0.87916667  5.56377778  3.27790278  2.64893333\n",
      "  5.19231944] \n",
      "\n"
     ]
    }
   ],
   "source": [
    "# Melakukan Clustering yang akan fitting dengan input training data\n",
    "kmeans = KMeans(n_clusters=3).fit(X)\n",
    "\n",
    "# Mendapatkan cluster labels\n",
    "labels = kmeans.labels_\n",
    "\n",
    "# Mendapatkan nilai centroid\n",
    "C = kmeans.cluster_centers_\n",
    "\n",
    "# Mencetak Label Prediksi\n",
    "print(\"Label prediksi = \\n\", labels, \"\\n\")\n",
    "\n",
    "# Mencetak nilai centroid\n",
    "print(\"Centroid cluster 0 = \\n\", C[0], \"\\n\")\n",
    "print(\"Centroid cluster 1 = \\n\", C[1], \"\\n\")\n",
    "print(\"Centroid cluster 2 = \\n\", C[2], \"\\n\")"
   ]
  },
  {
   "cell_type": "markdown",
   "metadata": {
    "id": "mf6GQQZREvU6"
   },
   "source": [
    "## 📊 Visualisasi Hasil Clustering"
   ]
  },
  {
   "cell_type": "code",
   "execution_count": 14,
   "metadata": {
    "colab": {
     "base_uri": "https://localhost:8080/",
     "height": 295
    },
    "id": "R6WSbxsPEhFc",
    "outputId": "1c7eb66b-7a5e-4d19-ff4d-4152a954f0cf"
   },
   "outputs": [
    {
     "data": {
      "image/png": "[encoded data removed]",
      "text/plain": [
       "<Figure size 640x480 with 1 Axes>"
      ]
     },
     "metadata": {},
     "output_type": "display_data"
    }
   ],
   "source": [
    "plt.plot()\n",
    "plt.scatter(X[Y == 1, 0], X[Y == 1, 6], s =80, c = 'orange', label = 'Kama Wheat')\n",
    "plt.scatter(X[Y == 2, 0], X[Y == 2, 6], s =80,  c = 'yellow', label = 'Rosa Wheat')\n",
    "plt.scatter(X[Y == 3, 0], X[Y == 3, 6], s =80,  c = 'green', label = 'Canadian Wheat')\n",
    "plt.scatter(C[0, 0], C[0, 6], marker='*', s=150, c='blue', label = 'cluster 0')\n",
    "plt.scatter(C[1, 0], C[1, 6], marker='*', s=150, c='red', label = 'cluster 1')\n",
    "plt.scatter(C[2, 0], C[2, 6], marker='*', s=150, c='black', label = 'cluster 2')\n",
    "plt.title('K = 3')\n",
    "plt.xlabel('Area')\n",
    "plt.ylabel('Length of Kernel Groove')\n",
    "plt.legend()\n",
    "plt.show()"
   ]
  },
  {
   "cell_type": "markdown",
   "metadata": {
    "id": "ZaVYI2dOEkR1"
   },
   "source": [
    "## 🎯 Menghitung Nilai Silhoutte"
   ]
  },
  {
   "cell_type": "code",
   "execution_count": 15,
   "metadata": {
    "colab": {
     "base_uri": "https://localhost:8080/"
    },
    "id": "lJ5IWQS_Ejtt",
    "outputId": "3135b15f-93a9-414f-e57a-d15d955d8375"
   },
   "outputs": [
    {
     "data": {
      "text/plain": [
       "0.4719337319126887"
      ]
     },
     "execution_count": 15,
     "metadata": {},
     "output_type": "execute_result"
    }
   ],
   "source": [
    "# Evaluasi silhoutte value\n",
    "silhouette_score(X, labels)"
   ]
  },
  {
   "cell_type": "markdown",
   "metadata": {
    "id": "bgJAkGc_Z9Vx"
   },
   "source": [
    "## 🔬 Prediksi Sebuah Data"
   ]
  },
  {
   "cell_type": "code",
   "execution_count": 16,
   "metadata": {
    "colab": {
     "base_uri": "https://localhost:8080/"
    },
    "id": "gUYnv7MFaFXC",
    "outputId": "4b7dd246-ac66-49c4-8042-c03a2a7143e8"
   },
   "outputs": [
    {
     "data": {
      "text/plain": [
       "array([1])"
      ]
     },
     "execution_count": 16,
     "metadata": {},
     "output_type": "execute_result"
    }
   ],
   "source": [
    "# Test data diambil dari centroid cluster\n",
    "test = np.array([ np.array([11.96441558, 13.27480519, 0.8522, 5.22928571, 2.87292208 , 4.75974026, 5.08851948]) ])\n",
    "kmeans.predict(test)"
   ]
  },
  {
   "cell_type": "markdown",
   "metadata": {
    "id": "j-LpCWzIDV0h"
   },
   "source": [
    "# 🚨 Export Model "
   ]
  },
  {
   "cell_type": "markdown",
   "metadata": {
    "id": "zE5i1u6GZHzt"
   },
   "source": [
    "## 🚚 Export Model untuk Dipakai di Website"
   ]
  },
  {
   "cell_type": "code",
   "execution_count": 17,
   "metadata": {
    "id": "N0MmHmHAfxV-"
   },
   "outputs": [],
   "source": [
    "# Hasil dump akan tampil jika dilakukan lewat Jupyter Notebook\n",
    "filename='best_model.pkl'\n",
    "pickle.dump(kmeans, open(filename,'wb'))"
   ]
  },
  {
   "cell_type": "markdown",
   "metadata": {
    "id": "tNReG0bHaFgO"
   },
   "source": [
    "## 🛸 Cara Alternatif Export Model (Khusus Colab) - Restricted 🚧"
   ]
  },
  {
   "cell_type": "code",
   "execution_count": null,
   "metadata": {
    "id": "WGLUApjlgC5O"
   },
   "outputs": [],
   "source": [
    "# Jika dilakukan lewat Google Colab\n",
    "# import gc\n",
    "# import pickle\n",
    "# from google.colab import drive\n",
    "# drive.mount('/content/drive', force_remount=True)\n",
    "\n",
    "# Export Pickle File\n",
    "# pick_insert = open('drive/My Drive/data.pickle','wb')\n",
    "# pickle.dump(data, pick_insert)\n",
    "# pick_insert.close()\n",
    "\n",
    "# Import Pickle File (Tidak perlu dipakai)\n",
    "# pick_read = open('drive/My Drive/data.pickle','rb')\n",
    "# data = pickle.load(pick_read)\n",
    "# pick_read.close()"
   ]
  },
  {
   "cell_type": "markdown",
   "metadata": {
    "id": "FIm0sw1-Dfsq"
   },
   "source": [
    "# 🏁 **SELESAI** 🏁"
   ]
  }
 ],
 "metadata": {
  "colab": {
   "collapsed_sections": [
    "j-LpCWzIDV0h"
   ],
   "provenance": []
  },
  "kernelspec": {
   "display_name": "Python 3 (ipykernel)",
   "language": "python",
   "name": "python3"
  },
  "language_info": {
   "codemirror_mode": {
    "name": "ipython",
    "version": 3
   },
   "file_extension": ".py",
   "mimetype": "text/x-python",
   "name": "python",
   "nbconvert_exporter": "python",
   "pygments_lexer": "ipython3",
   "version": "3.11.0"
  }
 },
 "nbformat": 4,
 "nbformat_minor": 1
}
